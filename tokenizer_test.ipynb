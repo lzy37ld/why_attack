{
 "cells": [
  {
   "cell_type": "code",
   "execution_count": 1,
   "metadata": {},
   "outputs": [],
   "source": [
    "system_message= (\"You are a helpful, respectful and honest assistant. Always answer as helpfully as possible, while being safe. \"\n",
    "        \"Your answers should not include any harmful, unethical, racist, sexist, toxic, dangerous, or illegal content. \"\n",
    "        \"Please ensure that your responses are socially unbiased and positive in nature.\\n\\n\"\n",
    "        \"If a question does not make any sense, or is not factually coherent, explain why instead of answering something not correct. \"\n",
    "        \"If you don't know the answer to a question, please don't share false information.\")\n",
    "prompt = \"Hello, how are you?\""
   ]
  },
  {
   "cell_type": "code",
   "execution_count": 7,
   "metadata": {},
   "outputs": [
    {
     "name": "stdout",
     "output_type": "stream",
     "text": [
      "<s>[INST] ICL1\n",
      "ICL2\n",
      "ICL3 [/INST]\n",
      "**************************************************\n",
      "<s>[INST] ICL1\n",
      "ICL2\n",
      "ICL3 [/INST]\n"
     ]
    }
   ],
   "source": [
    "\n",
    "from transformers import AutoTokenizer\n",
    "tokenizer = AutoTokenizer.from_pretrained(\"meta-llama/Llama-2-7b-chat-hf\")\n",
    "\n",
    "chat = [\n",
    "# {\n",
    "#     \"role\": \"system\",\n",
    "#     \"content\": (\"You are a helpful, respectful and honest assistant. Always answer as helpfully as possible, while being safe. \"\n",
    "#     \"Your answers should not include any harmful, unethical, racist, sexist, toxic, dangerous, or illegal content. \"\n",
    "#     \"Please ensure that your responses are socially unbiased and positive in nature.\\n\\n\"\n",
    "#     \"If a question does not make any sense, or is not factually coherent, explain why instead of answering something not correct. \"\n",
    "#     \"If you don't know the answer to a question, please don't share false information.\")\n",
    "# },\n",
    "{\"role\": \"user\", \"content\": \"ICL1\\nICL2\\nICL3\"},\n",
    "]\n",
    "\n",
    "x = tokenizer.apply_chat_template(chat, tokenize=False,add_generation_prompt = False)\n",
    "print(x)\n",
    "print(\"*\"*50)\n",
    "x = tokenizer.apply_chat_template(chat, tokenize=False,add_generation_prompt = True)\n",
    "print(x)\n",
    "# print(tokenizer.decode(tokenizer(x).input_ids))\n"
   ]
  },
  {
   "cell_type": "code",
   "execution_count": 10,
   "metadata": {},
   "outputs": [
    {
     "name": "stdout",
     "output_type": "stream",
     "text": [
      "['<s>', 'Hello', ',', 'how', 'are', 'you', '?']\n"
     ]
    }
   ],
   "source": [
    "# no system message\n",
    "\n",
    "\n",
    "from transformers import AutoTokenizer\n",
    "tokenizer = AutoTokenizer.from_pretrained(\"meta-llama/Llama-2-7b-hf\")\n",
    "\n",
    "\n",
    "chat = [\n",
    "{\"role\": \"user\", \"content\": \"Hello, how are you?\"},\n",
    "]\n",
    "\n",
    "x = tokenizer(\"Hello, how are you?\")\n",
    "print(tokenizer.batch_decode(x.input_ids))\n",
    "# print(\"*\"*50)\n",
    "# x = tokenizer.apply_chat_template(chat, tokenize=False,add_generation_prompt = True)\n",
    "# print(x)\n",
    "# print(tokenizer.decode(tokenizer(x).input_ids))\n"
   ]
  },
  {
   "cell_type": "code",
   "execution_count": 5,
   "metadata": {},
   "outputs": [
    {
     "name": "stdout",
     "output_type": "stream",
     "text": [
      "<｜begin▁of▁sentence｜>User: Hello, how are you?\n",
      "\n",
      "\n",
      "**************************************************\n",
      "<｜begin▁of▁sentence｜>User: Hello, how are you?\n",
      "\n",
      "Assistant:\n",
      "1\n"
     ]
    }
   ],
   "source": [
    "# no system messgae...\n",
    "\n",
    "chat = [\n",
    "{\"role\": \"user\", \"content\": \"Hello, how are you?\"},\n",
    "]\n",
    "\n",
    "tokenizer = AutoTokenizer.from_pretrained(\"deepseek-ai/deepseek-llm-7b-chat\")\n",
    "x = tokenizer.apply_chat_template(chat, tokenize=False,add_generation_prompt = False)\n",
    "print(x)\n",
    "print(\"*\"*50)\n",
    "x = tokenizer.apply_chat_template(chat, tokenize=False,add_generation_prompt = True)\n",
    "print(x)\n",
    "print(1)"
   ]
  },
  {
   "cell_type": "code",
   "execution_count": 7,
   "metadata": {},
   "outputs": [
    {
     "name": "stdout",
     "output_type": "stream",
     "text": [
      "<｜begin▁of▁sentence｜>User: Hello, how are you?\n",
      "\n",
      "Assistant:\n",
      "1\n"
     ]
    }
   ],
   "source": [
    "p = \"<｜begin▁of▁sentence｜>User: {prompt}\\n\\nAssistant:\"\n",
    "print(p.format(prompt = prompt))\n",
    "print(1)"
   ]
  },
  {
   "cell_type": "code",
   "execution_count": 8,
   "metadata": {},
   "outputs": [
    {
     "name": "stdout",
     "output_type": "stream",
     "text": [
      "<|im_start|>system\n",
      "You are a helpful, respectful and honest assistant. Always answer as helpfully as possible, while being safe. Your answers should not include any harmful, unethical, racist, sexist, toxic, dangerous, or illegal content. Please ensure that your responses are socially unbiased and positive in nature.\n",
      "\n",
      "If a question does not make any sense, or is not factually coherent, explain why instead of answering something not correct. If you don't know the answer to a question, please don't share false information.<|im_end|>\n",
      "<|im_start|>user\n",
      "Hello, how are you?<|im_end|>\n",
      "<|im_start|>assistant\n",
      "Good<|im_end|>\n",
      "\n",
      "**************************************************\n",
      "<|im_start|>system\n",
      "You are a helpful, respectful and honest assistant. Always answer as helpfully as possible, while being safe. Your answers should not include any harmful, unethical, racist, sexist, toxic, dangerous, or illegal content. Please ensure that your responses are socially unbiased and positive in nature.\n",
      "\n",
      "If a question does not make any sense, or is not factually coherent, explain why instead of answering something not correct. If you don't know the answer to a question, please don't share false information.<|im_end|>\n",
      "<|im_start|>user\n",
      "Hello, how are you?<|im_end|>\n",
      "<|im_start|>assistant\n",
      "Good<|im_end|>\n",
      "<|im_start|>assistant\n",
      "\n",
      "1\n"
     ]
    }
   ],
   "source": [
    "chat = [\n",
    "{\n",
    "    \"role\": \"system\",\n",
    "    \"content\": (\"You are a helpful, respectful and honest assistant. Always answer as helpfully as possible, while being safe. \"\n",
    "    \"Your answers should not include any harmful, unethical, racist, sexist, toxic, dangerous, or illegal content. \"\n",
    "    \"Please ensure that your responses are socially unbiased and positive in nature.\\n\\n\"\n",
    "    \"If a question does not make any sense, or is not factually coherent, explain why instead of answering something not correct. \"\n",
    "    \"If you don't know the answer to a question, please don't share false information.\")\n",
    "},\n",
    "{\"role\": \"user\", \"content\": \"Hello, how are you?\"},\n",
    "{\"role\": \"assistant\", \"content\": \"Good\"}\n",
    "]\n",
    "\n",
    "\n",
    "\n",
    "tokenizer = AutoTokenizer.from_pretrained(\"01-ai/Yi-6B-Chat\")\n",
    "x = tokenizer.apply_chat_template(chat, tokenize=False,add_generation_prompt = False)\n",
    "print(x)\n",
    "print(\"*\"*50)\n",
    "x = tokenizer.apply_chat_template(chat, tokenize=False,add_generation_prompt = True)\n",
    "print(x)\n",
    "print(1)"
   ]
  },
  {
   "cell_type": "code",
   "execution_count": 18,
   "metadata": {},
   "outputs": [
    {
     "name": "stdout",
     "output_type": "stream",
     "text": [
      "<|im_start|>system\n",
      "You are a helpful, respectful and honest assistant. Always answer as helpfully as possible, while being safe. Your answers should not include any harmful, unethical, racist, sexist, toxic, dangerous, or illegal content. Please ensure that your responses are socially unbiased and positive in nature.\n",
      "\n",
      "If a question does not make any sense, or is not factually coherent, explain why instead of answering something not correct. If you don't know the answer to a question, please don't share false information.\n",
      "<|im_start|>user\n",
      "Hello, how are you?<|im_end|>\n",
      "<|im_start|>assistant\n",
      "\n",
      "1\n"
     ]
    }
   ],
   "source": [
    "p = \"<|im_start|>system\\n{system_message}\\n<|im_start|>user\\n{prompt}<|im_end|>\\n<|im_start|>assistant\\n\"\n",
    "print(p.format(system_message = system_message, prompt = prompt))\n",
    "print(1)"
   ]
  }
 ],
 "metadata": {
  "kernelspec": {
   "display_name": "attack",
   "language": "python",
   "name": "python3"
  },
  "language_info": {
   "codemirror_mode": {
    "name": "ipython",
    "version": 3
   },
   "file_extension": ".py",
   "mimetype": "text/x-python",
   "name": "python",
   "nbconvert_exporter": "python",
   "pygments_lexer": "ipython3",
   "version": "3.8.3"
  }
 },
 "nbformat": 4,
 "nbformat_minor": 4
}
