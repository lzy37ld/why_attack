{
 "cells": [
  {
   "cell_type": "code",
   "execution_count": null,
   "metadata": {},
   "outputs": [],
   "source": [
    "import jsonlines\n",
    "from collections import defaultdict as ddict\n",
    "a = ddict(list)\n",
    "with jsonlines.open(\"/users/PAA0201/lzy37ld/why_attack/check_loss_decreasing.json\") as f:\n",
    "\tfor line in f:\n",
    "\t\ta[line[\"step\"]].append(line[\"loss\"])\n",
    "\n",
    "for key in a:\n",
    "\tprint(key)\n",
    "\tprint(min(a[key]))"
   ]
  }
 ],
 "metadata": {
  "kernelspec": {
   "display_name": "base",
   "language": "python",
   "name": "python3"
  },
  "language_info": {
   "codemirror_mode": {
    "name": "ipython",
    "version": 3
   },
   "file_extension": ".py",
   "mimetype": "text/x-python",
   "name": "python",
   "nbconvert_exporter": "python",
   "pygments_lexer": "ipython3",
   "version": "3.11.4"
  },
  "orig_nbformat": 4
 },
 "nbformat": 4,
 "nbformat_minor": 2
}
