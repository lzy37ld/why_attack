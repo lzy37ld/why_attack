{
 "cells": [
  {
   "cell_type": "code",
   "execution_count": 34,
   "metadata": {},
   "outputs": [
    {
     "name": "stdout",
     "output_type": "stream",
     "text": [
      "train\n",
      "318\n",
      "test\n",
      "100\n",
      "val\n",
      "52\n",
      "hard\n",
      "127\n",
      "unknown\n",
      "75\n",
      "all\n",
      "520\n",
      "gpt_test\n",
      "50\n"
     ]
    }
   ],
   "source": [
    "import json\n",
    "with open(\"/users/PAA0201/lzy37ld/why_attack_lzy/data/train_val_test.json\") as f:\n",
    "    split = json.load(f)\n",
    "for key in split:\n",
    "    print(key)\n",
    "    print(len(split[key]))\n"
   ]
  },
  {
   "cell_type": "code",
   "execution_count": 4,
   "metadata": {},
   "outputs": [],
   "source": [
    "with open(\"/users/PAA0201/lzy37ld/why_attack_lzy/data/four_vicuna_guanaco/success_JB_victimmodel=vicuna-7b-chat-v1.5_and_vicuna-13b-chat-v1.5_and_guanaco-7b-chat_and_guanaco-13b-chat_sampleway=loss_100_nsample=200.json\") as f:\n",
    "    four_vicuna_guanaco = json.load(f)"
   ]
  },
  {
   "cell_type": "code",
   "execution_count": 5,
   "metadata": {},
   "outputs": [],
   "source": [
    "with open(\"/users/PAA0201/lzy37ld/why_attack_lzy/data/two_vicuna/success_JB_victimmodel=vicuna-7b-chat-v1.5_and_vicuna-13b-chat-v1.5_sampleway=loss_100_nsample=200.json\") as f:\n",
    "    two_vicuna = json.load(f)"
   ]
  },
  {
   "cell_type": "code",
   "execution_count": 9,
   "metadata": {},
   "outputs": [],
   "source": [
    "intersection = set(four_vicuna_guanaco.keys()).union((set(two_vicuna.keys())))"
   ]
  },
  {
   "cell_type": "code",
   "execution_count": 10,
   "metadata": {},
   "outputs": [
    {
     "data": {
      "text/plain": [
       "318"
      ]
     },
     "execution_count": 10,
     "metadata": {},
     "output_type": "execute_result"
    }
   ],
   "source": []
  },
  {
   "cell_type": "code",
   "execution_count": 11,
   "metadata": {},
   "outputs": [],
   "source": [
    "gpt_test = []\n",
    "for q in split[\"test\"]:\n",
    "    if q not in intersection:\n",
    "        gpt_test.append(q)\n",
    "        \n"
   ]
  },
  {
   "cell_type": "code",
   "execution_count": 15,
   "metadata": {},
   "outputs": [],
   "source": [
    "import random\n",
    "gpt_test = random.sample(gpt_test,50)"
   ]
  },
  {
   "cell_type": "code",
   "execution_count": 17,
   "metadata": {},
   "outputs": [],
   "source": [
    "split[\"gpt_test\"] = gpt_test\n",
    "with open(\"/users/PAA0201/lzy37ld/why_attack_lzy/data/train_val_test.json\",\"w\") as f:\n",
    "    json.dump(split,f)"
   ]
  },
  {
   "cell_type": "code",
   "execution_count": 28,
   "metadata": {},
   "outputs": [],
   "source": [
    "test_new = []\n",
    "test_new += gpt_test\n",
    "for q in split[\"test\"]:\n",
    "    if q not in gpt_test:\n",
    "        test_new.append(q)\n",
    "        if len(test_new) >= 100:\n",
    "            break\n",
    "        "
   ]
  },
  {
   "cell_type": "code",
   "execution_count": 30,
   "metadata": {},
   "outputs": [],
   "source": []
  },
  {
   "cell_type": "code",
   "execution_count": 31,
   "metadata": {},
   "outputs": [],
   "source": [
    "\n",
    "        \n",
    "split[\"test\"] = test_new\n",
    "with open(\"/users/PAA0201/lzy37ld/why_attack_lzy/data/train_val_test.json\",\"w\") as f:\n",
    "    json.dump(split,f)"
   ]
  }
 ],
 "metadata": {
  "kernelspec": {
   "display_name": "attack",
   "language": "python",
   "name": "python3"
  },
  "language_info": {
   "codemirror_mode": {
    "name": "ipython",
    "version": 3
   },
   "file_extension": ".py",
   "mimetype": "text/x-python",
   "name": "python",
   "nbconvert_exporter": "python",
   "pygments_lexer": "ipython3",
   "version": "3.11.4"
  },
  "orig_nbformat": 4
 },
 "nbformat": 4,
 "nbformat_minor": 2
}
